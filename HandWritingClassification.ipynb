{
  "nbformat": 4,
  "nbformat_minor": 0,
  "metadata": {
    "colab": {
      "provenance": [],
      "mount_file_id": "1pwf9eHCVqa6FYlXefrxC3faqpanF9w8p",
      "authorship_tag": "ABX9TyOAksKZWtk3laOEz5SSb8YI",
      "include_colab_link": true
    },
    "kernelspec": {
      "name": "python3",
      "display_name": "Python 3"
    },
    "language_info": {
      "name": "python"
    }
  },
  "cells": [
    {
      "cell_type": "markdown",
      "metadata": {
        "id": "view-in-github",
        "colab_type": "text"
      },
      "source": [
        "<a href=\"https://colab.research.google.com/github/Flychuban/MNIST-HandWriting-Classification/blob/main/HandWritingClassification.ipynb\" target=\"_parent\"><img src=\"https://colab.research.google.com/assets/colab-badge.svg\" alt=\"Open In Colab\"/></a>"
      ]
    },
    {
      "cell_type": "code",
      "execution_count": 61,
      "metadata": {
        "id": "32rdGPL0Jwra"
      },
      "outputs": [],
      "source": [
        "import tensorflow as tf\n",
        "from keras.datasets import mnist\n",
        "import numpy as np\n",
        "from sklearn.model_selection import train_test_split"
      ]
    },
    {
      "cell_type": "code",
      "source": [
        "# load data\n",
        "(train_X, train_y), (test_X, test_y) = mnist.load_data()"
      ],
      "metadata": {
        "id": "fklp5J49KqtX"
      },
      "execution_count": 55,
      "outputs": []
    },
    {
      "cell_type": "code",
      "source": [
        "# Spliting into test and validation equally\n",
        "test_X, val_X, test_y, val_y = train_test_split(test_X, test_y, test_size=0.5, stratify=test_y, random_state=10)"
      ],
      "metadata": {
        "id": "p7TDUVhq1ip9"
      },
      "execution_count": 63,
      "outputs": []
    },
    {
      "cell_type": "code",
      "source": [
        "print(f\"Train shape: {train_X.shape}\")\n",
        "print(f\"Test shape: {test_X.shape}\")\n",
        "print(f\"Val shape: {val_X.shape}\")"
      ],
      "metadata": {
        "colab": {
          "base_uri": "https://localhost:8080/"
        },
        "id": "wly8HatTK-qW",
        "outputId": "d8c2b702-5164-487d-a384-ec61eb8534d4"
      },
      "execution_count": 64,
      "outputs": [
        {
          "output_type": "stream",
          "name": "stdout",
          "text": [
            "Train shape: (60000, 28, 28)\n",
            "Test shape: (5000, 28, 28)\n",
            "Val shape: (5000, 28, 28)\n"
          ]
        }
      ]
    },
    {
      "cell_type": "code",
      "source": [
        "train_X[0]"
      ],
      "metadata": {
        "colab": {
          "base_uri": "https://localhost:8080/"
        },
        "id": "98fgFfM5MS3z",
        "outputId": "bf2d4c27-0395-4a0d-c7f5-6f56f69325b3"
      },
      "execution_count": 32,
      "outputs": [
        {
          "output_type": "execute_result",
          "data": {
            "text/plain": [
              "array([[  0,   0,   0,   0,   0,   0,   0,   0,   0,   0,   0,   0,   0,\n",
              "          0,   0,   0,   0,   0,   0,   0,   0,   0,   0,   0,   0,   0,\n",
              "          0,   0],\n",
              "       [  0,   0,   0,   0,   0,   0,   0,   0,   0,   0,   0,   0,   0,\n",
              "          0,   0,   0,   0,   0,   0,   0,   0,   0,   0,   0,   0,   0,\n",
              "          0,   0],\n",
              "       [  0,   0,   0,   0,   0,   0,   0,   0,   0,   0,   0,   0,   0,\n",
              "          0,   0,   0,   0,   0,   0,   0,   0,   0,   0,   0,   0,   0,\n",
              "          0,   0],\n",
              "       [  0,   0,   0,   0,   0,   0,   0,   0,   0,   0,   0,   0,   0,\n",
              "          0,   0,   0,   0,   0,   0,   0,   0,   0,   0,   0,   0,   0,\n",
              "          0,   0],\n",
              "       [  0,   0,   0,   0,   0,   0,   0,   0,   0,   0,   0,   0,   0,\n",
              "          0,   0,   0,   0,   0,   0,   0,   0,   0,   0,   0,   0,   0,\n",
              "          0,   0],\n",
              "       [  0,   0,   0,   0,   0,   0,   0,   0,   0,   0,   0,   0,   3,\n",
              "         18,  18,  18, 126, 136, 175,  26, 166, 255, 247, 127,   0,   0,\n",
              "          0,   0],\n",
              "       [  0,   0,   0,   0,   0,   0,   0,   0,  30,  36,  94, 154, 170,\n",
              "        253, 253, 253, 253, 253, 225, 172, 253, 242, 195,  64,   0,   0,\n",
              "          0,   0],\n",
              "       [  0,   0,   0,   0,   0,   0,   0,  49, 238, 253, 253, 253, 253,\n",
              "        253, 253, 253, 253, 251,  93,  82,  82,  56,  39,   0,   0,   0,\n",
              "          0,   0],\n",
              "       [  0,   0,   0,   0,   0,   0,   0,  18, 219, 253, 253, 253, 253,\n",
              "        253, 198, 182, 247, 241,   0,   0,   0,   0,   0,   0,   0,   0,\n",
              "          0,   0],\n",
              "       [  0,   0,   0,   0,   0,   0,   0,   0,  80, 156, 107, 253, 253,\n",
              "        205,  11,   0,  43, 154,   0,   0,   0,   0,   0,   0,   0,   0,\n",
              "          0,   0],\n",
              "       [  0,   0,   0,   0,   0,   0,   0,   0,   0,  14,   1, 154, 253,\n",
              "         90,   0,   0,   0,   0,   0,   0,   0,   0,   0,   0,   0,   0,\n",
              "          0,   0],\n",
              "       [  0,   0,   0,   0,   0,   0,   0,   0,   0,   0,   0, 139, 253,\n",
              "        190,   2,   0,   0,   0,   0,   0,   0,   0,   0,   0,   0,   0,\n",
              "          0,   0],\n",
              "       [  0,   0,   0,   0,   0,   0,   0,   0,   0,   0,   0,  11, 190,\n",
              "        253,  70,   0,   0,   0,   0,   0,   0,   0,   0,   0,   0,   0,\n",
              "          0,   0],\n",
              "       [  0,   0,   0,   0,   0,   0,   0,   0,   0,   0,   0,   0,  35,\n",
              "        241, 225, 160, 108,   1,   0,   0,   0,   0,   0,   0,   0,   0,\n",
              "          0,   0],\n",
              "       [  0,   0,   0,   0,   0,   0,   0,   0,   0,   0,   0,   0,   0,\n",
              "         81, 240, 253, 253, 119,  25,   0,   0,   0,   0,   0,   0,   0,\n",
              "          0,   0],\n",
              "       [  0,   0,   0,   0,   0,   0,   0,   0,   0,   0,   0,   0,   0,\n",
              "          0,  45, 186, 253, 253, 150,  27,   0,   0,   0,   0,   0,   0,\n",
              "          0,   0],\n",
              "       [  0,   0,   0,   0,   0,   0,   0,   0,   0,   0,   0,   0,   0,\n",
              "          0,   0,  16,  93, 252, 253, 187,   0,   0,   0,   0,   0,   0,\n",
              "          0,   0],\n",
              "       [  0,   0,   0,   0,   0,   0,   0,   0,   0,   0,   0,   0,   0,\n",
              "          0,   0,   0,   0, 249, 253, 249,  64,   0,   0,   0,   0,   0,\n",
              "          0,   0],\n",
              "       [  0,   0,   0,   0,   0,   0,   0,   0,   0,   0,   0,   0,   0,\n",
              "          0,  46, 130, 183, 253, 253, 207,   2,   0,   0,   0,   0,   0,\n",
              "          0,   0],\n",
              "       [  0,   0,   0,   0,   0,   0,   0,   0,   0,   0,   0,   0,  39,\n",
              "        148, 229, 253, 253, 253, 250, 182,   0,   0,   0,   0,   0,   0,\n",
              "          0,   0],\n",
              "       [  0,   0,   0,   0,   0,   0,   0,   0,   0,   0,  24, 114, 221,\n",
              "        253, 253, 253, 253, 201,  78,   0,   0,   0,   0,   0,   0,   0,\n",
              "          0,   0],\n",
              "       [  0,   0,   0,   0,   0,   0,   0,   0,  23,  66, 213, 253, 253,\n",
              "        253, 253, 198,  81,   2,   0,   0,   0,   0,   0,   0,   0,   0,\n",
              "          0,   0],\n",
              "       [  0,   0,   0,   0,   0,   0,  18, 171, 219, 253, 253, 253, 253,\n",
              "        195,  80,   9,   0,   0,   0,   0,   0,   0,   0,   0,   0,   0,\n",
              "          0,   0],\n",
              "       [  0,   0,   0,   0,  55, 172, 226, 253, 253, 253, 253, 244, 133,\n",
              "         11,   0,   0,   0,   0,   0,   0,   0,   0,   0,   0,   0,   0,\n",
              "          0,   0],\n",
              "       [  0,   0,   0,   0, 136, 253, 253, 253, 212, 135, 132,  16,   0,\n",
              "          0,   0,   0,   0,   0,   0,   0,   0,   0,   0,   0,   0,   0,\n",
              "          0,   0],\n",
              "       [  0,   0,   0,   0,   0,   0,   0,   0,   0,   0,   0,   0,   0,\n",
              "          0,   0,   0,   0,   0,   0,   0,   0,   0,   0,   0,   0,   0,\n",
              "          0,   0],\n",
              "       [  0,   0,   0,   0,   0,   0,   0,   0,   0,   0,   0,   0,   0,\n",
              "          0,   0,   0,   0,   0,   0,   0,   0,   0,   0,   0,   0,   0,\n",
              "          0,   0],\n",
              "       [  0,   0,   0,   0,   0,   0,   0,   0,   0,   0,   0,   0,   0,\n",
              "          0,   0,   0,   0,   0,   0,   0,   0,   0,   0,   0,   0,   0,\n",
              "          0,   0]], dtype=uint8)"
            ]
          },
          "metadata": {},
          "execution_count": 32
        }
      ]
    },
    {
      "cell_type": "code",
      "source": [
        "\n",
        "# data preproccessig\n",
        "train_X = train_X / 255.0\n",
        "test_X = test_X / 255.0\n",
        "val_X = val_X / 255.0\n",
        "\n",
        "train_y = tf.keras.utils.to_categorical(train_y)\n",
        "test_y = tf.keras.utils.to_categorical(test_y)\n",
        "val_y = tf.keras.utils.to_categorical(val_y)\n",
        "\n",
        "train_X = np.expand_dims(train_X, axis=3)\n",
        "test_X = np.expand_dims(test_X, axis=3)\n",
        "val_X = np.expand_dims(val_X, axis = 3)\n",
        "# train_X = train_X.reshape(train_X.shape[0], train_X.shape[1], train_X.shape[2], 1)\n",
        "# test_X = test_X.reshape(test_X.shape[0], test_X.shape[1], test_X.shape[2], 1)"
      ],
      "metadata": {
        "id": "tUqmSk6GLREo"
      },
      "execution_count": 65,
      "outputs": []
    },
    {
      "cell_type": "code",
      "source": [
        "train_X.shape"
      ],
      "metadata": {
        "colab": {
          "base_uri": "https://localhost:8080/"
        },
        "id": "TJuqlTBXSb7A",
        "outputId": "702f4fac-ffe4-43f7-a30f-14b58ca464e9"
      },
      "execution_count": 66,
      "outputs": [
        {
          "output_type": "execute_result",
          "data": {
            "text/plain": [
              "(60000, 28, 28, 1)"
            ]
          },
          "metadata": {},
          "execution_count": 66
        }
      ]
    },
    {
      "cell_type": "code",
      "source": [
        "from tensorflow.keras.models import Sequential\n",
        "model = Sequential()"
      ],
      "metadata": {
        "id": "8mYgKD96PvrM"
      },
      "execution_count": 67,
      "outputs": []
    },
    {
      "cell_type": "code",
      "source": [
        "# Time for Neural Network implementation\n",
        "from tensorflow.keras.layers import Conv2D, MaxPooling2D, Dense, Flatten, Dropout\n",
        "\n",
        "model.add(Conv2D(24, (3, 3), activation='relu', input_shape=(28, 28, 1)))\n",
        "model.add(MaxPooling2D())\n",
        "model.add(Conv2D(18, (3, 3), activation='relu'))\n",
        "model.add(MaxPooling2D())\n",
        "model.add(Flatten())\n",
        "model.add(Dense(48, activation='relu'))\n",
        "model.add(Dropout(0.4))\n",
        "model.add(Dense(24, activation='relu'))\n",
        "model.add(Dropout(0.25))\n",
        "model.add(Dense(10, activation='softmax'))"
      ],
      "metadata": {
        "id": "qq57IrGmMiAG"
      },
      "execution_count": 68,
      "outputs": []
    },
    {
      "cell_type": "code",
      "source": [
        "model.compile(\n",
        "    optimizer = 'adam',\n",
        "    loss = 'categorical_crossentropy',\n",
        "    metrics = ['accuracy']\n",
        ")"
      ],
      "metadata": {
        "id": "dpH-i53xmxtu"
      },
      "execution_count": 69,
      "outputs": []
    },
    {
      "cell_type": "code",
      "source": [
        "model.summary()"
      ],
      "metadata": {
        "colab": {
          "base_uri": "https://localhost:8080/"
        },
        "id": "QUQSMk-C0wa4",
        "outputId": "26926202-2b54-49da-c78a-51134fe98fdb"
      },
      "execution_count": 70,
      "outputs": [
        {
          "output_type": "stream",
          "name": "stdout",
          "text": [
            "Model: \"sequential_4\"\n",
            "_________________________________________________________________\n",
            " Layer (type)                Output Shape              Param #   \n",
            "=================================================================\n",
            " conv2d_20 (Conv2D)          (None, 26, 26, 24)        240       \n",
            "                                                                 \n",
            " max_pooling2d_11 (MaxPooli  (None, 13, 13, 24)        0         \n",
            " ng2D)                                                           \n",
            "                                                                 \n",
            " conv2d_21 (Conv2D)          (None, 11, 11, 18)        3906      \n",
            "                                                                 \n",
            " max_pooling2d_12 (MaxPooli  (None, 5, 5, 18)          0         \n",
            " ng2D)                                                           \n",
            "                                                                 \n",
            " flatten_4 (Flatten)         (None, 450)               0         \n",
            "                                                                 \n",
            " dense_12 (Dense)            (None, 48)                21648     \n",
            "                                                                 \n",
            " dropout_8 (Dropout)         (None, 48)                0         \n",
            "                                                                 \n",
            " dense_13 (Dense)            (None, 24)                1176      \n",
            "                                                                 \n",
            " dropout_9 (Dropout)         (None, 24)                0         \n",
            "                                                                 \n",
            " dense_14 (Dense)            (None, 10)                250       \n",
            "                                                                 \n",
            "=================================================================\n",
            "Total params: 27220 (106.33 KB)\n",
            "Trainable params: 27220 (106.33 KB)\n",
            "Non-trainable params: 0 (0.00 Byte)\n",
            "_________________________________________________________________\n"
          ]
        }
      ]
    },
    {
      "cell_type": "code",
      "source": [
        "# Training the model\n",
        "model.fit(train_X, train_y, epochs=10, verbose=2, validation_data=(val_X, val_y))"
      ],
      "metadata": {
        "colab": {
          "base_uri": "https://localhost:8080/"
        },
        "id": "X2b6mlJ_0Ilr",
        "outputId": "becc0f5a-22ed-4676-d14b-285028647260"
      },
      "execution_count": 72,
      "outputs": [
        {
          "output_type": "stream",
          "name": "stdout",
          "text": [
            "Epoch 1/10\n",
            "1875/1875 - 37s - loss: 0.5224 - accuracy: 0.8345 - val_loss: 0.0942 - val_accuracy: 0.9714 - 37s/epoch - 20ms/step\n",
            "Epoch 2/10\n",
            "1875/1875 - 34s - loss: 0.2184 - accuracy: 0.9402 - val_loss: 0.0675 - val_accuracy: 0.9788 - 34s/epoch - 18ms/step\n",
            "Epoch 3/10\n",
            "1875/1875 - 32s - loss: 0.1701 - accuracy: 0.9530 - val_loss: 0.0554 - val_accuracy: 0.9840 - 32s/epoch - 17ms/step\n",
            "Epoch 4/10\n",
            "1875/1875 - 33s - loss: 0.1399 - accuracy: 0.9611 - val_loss: 0.0539 - val_accuracy: 0.9868 - 33s/epoch - 18ms/step\n",
            "Epoch 5/10\n",
            "1875/1875 - 31s - loss: 0.1267 - accuracy: 0.9651 - val_loss: 0.0476 - val_accuracy: 0.9874 - 31s/epoch - 17ms/step\n",
            "Epoch 6/10\n",
            "1875/1875 - 34s - loss: 0.1151 - accuracy: 0.9680 - val_loss: 0.0420 - val_accuracy: 0.9878 - 34s/epoch - 18ms/step\n",
            "Epoch 7/10\n",
            "1875/1875 - 32s - loss: 0.1032 - accuracy: 0.9708 - val_loss: 0.0398 - val_accuracy: 0.9882 - 32s/epoch - 17ms/step\n",
            "Epoch 8/10\n",
            "1875/1875 - 32s - loss: 0.0932 - accuracy: 0.9735 - val_loss: 0.0447 - val_accuracy: 0.9872 - 32s/epoch - 17ms/step\n",
            "Epoch 9/10\n",
            "1875/1875 - 32s - loss: 0.0898 - accuracy: 0.9746 - val_loss: 0.0441 - val_accuracy: 0.9868 - 32s/epoch - 17ms/step\n",
            "Epoch 10/10\n",
            "1875/1875 - 33s - loss: 0.0857 - accuracy: 0.9764 - val_loss: 0.0450 - val_accuracy: 0.9896 - 33s/epoch - 18ms/step\n"
          ]
        },
        {
          "output_type": "execute_result",
          "data": {
            "text/plain": [
              "<keras.src.callbacks.History at 0x7e078215d090>"
            ]
          },
          "metadata": {},
          "execution_count": 72
        }
      ]
    },
    {
      "cell_type": "code",
      "source": [
        "model.evaluate(test_X, test_y)"
      ],
      "metadata": {
        "colab": {
          "base_uri": "https://localhost:8080/"
        },
        "id": "kdMBSmCu7ZWA",
        "outputId": "4fe717bf-f525-4f52-e4ac-958e9a89186b"
      },
      "execution_count": 73,
      "outputs": [
        {
          "output_type": "stream",
          "name": "stdout",
          "text": [
            "157/157 [==============================] - 2s 11ms/step - loss: 0.0424 - accuracy: 0.9888\n"
          ]
        },
        {
          "output_type": "execute_result",
          "data": {
            "text/plain": [
              "[0.04235924780368805, 0.9887999892234802]"
            ]
          },
          "metadata": {},
          "execution_count": 73
        }
      ]
    },
    {
      "cell_type": "code",
      "source": [
        "model.save(\"hand_writing_model.h5\")"
      ],
      "metadata": {
        "colab": {
          "base_uri": "https://localhost:8080/"
        },
        "id": "DdbRxvaY7pH4",
        "outputId": "df85720d-e503-4d1c-ec59-f756fc7a9978"
      },
      "execution_count": 74,
      "outputs": [
        {
          "output_type": "stream",
          "name": "stderr",
          "text": [
            "/usr/local/lib/python3.10/dist-packages/keras/src/engine/training.py:3000: UserWarning: You are saving your model as an HDF5 file via `model.save()`. This file format is considered legacy. We recommend using instead the native Keras format, e.g. `model.save('my_model.keras')`.\n",
            "  saving_api.save_model(\n"
          ]
        }
      ]
    },
    {
      "cell_type": "code",
      "source": [
        "# load test image and resize for the model\n",
        "import cv2\n",
        "test_image = cv2.imread('/content/drive/MyDrive/MNIST HandWriting/photo_5.png')\n",
        "test_image = cv2.cvtColor(test_image, cv2.COLOR_BGR2GRAY)\n",
        "test_image = cv2.resize(test_image, (28, 28))\n",
        "test_image = test_image / 255.0\n",
        "test_image = np.expand_dims(test_image, axis=0)\n",
        "test_image.shape"
      ],
      "metadata": {
        "colab": {
          "base_uri": "https://localhost:8080/"
        },
        "id": "Yp2b8v7m79BJ",
        "outputId": "4f7da1bb-4a05-4029-e071-f79992cb4d83"
      },
      "execution_count": 118,
      "outputs": [
        {
          "output_type": "execute_result",
          "data": {
            "text/plain": [
              "(1, 28, 28)"
            ]
          },
          "metadata": {},
          "execution_count": 118
        }
      ]
    },
    {
      "cell_type": "code",
      "source": [
        "prediction = model.predict(test_image)\n",
        "prediction = np.argmax(prediction)\n",
        "print(prediction)"
      ],
      "metadata": {
        "colab": {
          "base_uri": "https://localhost:8080/"
        },
        "id": "finoOW7W9DZj",
        "outputId": "2c7c58b4-916e-48f6-865b-9df7394e453d"
      },
      "execution_count": 119,
      "outputs": [
        {
          "output_type": "stream",
          "name": "stdout",
          "text": [
            "1/1 [==============================] - 0s 22ms/step\n",
            "9\n"
          ]
        }
      ]
    },
    {
      "cell_type": "code",
      "source": [],
      "metadata": {
        "id": "nGsLCopS-Lq1"
      },
      "execution_count": null,
      "outputs": []
    }
  ]
}